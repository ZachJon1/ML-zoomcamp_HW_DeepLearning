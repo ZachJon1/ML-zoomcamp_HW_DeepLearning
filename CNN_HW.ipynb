{
 "cells": [
  {
   "cell_type": "code",
   "execution_count": 97,
   "id": "76710202",
   "metadata": {},
   "outputs": [
    {
     "name": "stdout",
     "output_type": "stream",
     "text": [
      "Requirement already satisfied: tqdm in /home/zach/anaconda3/envs/ml-zoomcamp/lib/python3.8/site-packages (4.62.3)\r\n"
     ]
    }
   ],
   "source": [
    "import numpy as np\n",
    "import matplotlib.pyplot as plt\n",
    "%matplotlib inline\n",
    "\n",
    "import tensorflow as tf\n",
    "from tensorflow import keras\n",
    "from tensorflow.keras.preprocessing.image import ImageDataGenerator\n",
    "!pip install tqdm"
   ]
  },
  {
   "cell_type": "code",
   "execution_count": 98,
   "id": "ad956e3e",
   "metadata": {},
   "outputs": [],
   "source": [
    "# Load training dataset images in batches"
   ]
  },
  {
   "cell_type": "code",
   "execution_count": 99,
   "id": "7acc065f",
   "metadata": {},
   "outputs": [],
   "source": [
    "train_datagen = ImageDataGenerator(rescale=1./255)\n",
    "val_datagen = ImageDataGenerator(rescale=1./255) "
   ]
  },
  {
   "cell_type": "code",
   "execution_count": 100,
   "id": "dd1540e1",
   "metadata": {},
   "outputs": [],
   "source": [
    "train_dir = './train'\n",
    "val_dir = './validation'\n",
    "IMAGE_SHAPE = 150\n",
    "BATCH_SIZE = 20"
   ]
  },
  {
   "cell_type": "code",
   "execution_count": 101,
   "id": "dfd9fc0b",
   "metadata": {},
   "outputs": [
    {
     "name": "stdout",
     "output_type": "stream",
     "text": [
      "Found 20000 images belonging to 2 classes.\n",
      "Found 5000 images belonging to 2 classes.\n"
     ]
    }
   ],
   "source": [
    "train_ds = train_datagen.flow_from_directory(\n",
    "        directory= train_dir,\n",
    "        batch_size= BATCH_SIZE,\n",
    "        target_size= (IMAGE_SHAPE, IMAGE_SHAPE),\n",
    "        class_mode='binary',\n",
    "        shuffle= True )\n",
    "\n",
    "\n",
    "val_ds = val_datagen.flow_from_directory(\n",
    "        directory= val_dir,\n",
    "        batch_size= BATCH_SIZE,\n",
    "        target_size= (IMAGE_SHAPE, IMAGE_SHAPE),\n",
    "        class_mode='binary',\n",
    "        shuffle= True )"
   ]
  },
  {
   "cell_type": "code",
   "execution_count": 102,
   "id": "a9bb1492",
   "metadata": {},
   "outputs": [],
   "source": [
    "# Create model using sequential method "
   ]
  },
  {
   "cell_type": "code",
   "execution_count": 103,
   "id": "8dc87106",
   "metadata": {},
   "outputs": [],
   "source": [
    "model = tf.keras.models.Sequential([\n",
    "    tf.keras.layers.Conv2D(\n",
    "    input_shape= (IMAGE_SHAPE, IMAGE_SHAPE, 3),\n",
    "    filters= 32,\n",
    "    kernel_size= (3,3),\n",
    "    activation= 'relu'  \n",
    "    ),\n",
    "    tf.keras.layers.MaxPooling2D(pool_size=(2,2)),\n",
    "    tf.keras.layers.Flatten(),\n",
    "    tf.keras.layers.Dense(64, activation= 'relu'),\n",
    "    tf.keras.layers.Dense(1, activation= 'sigmoid')]\n",
    "    )   "
   ]
  },
  {
   "cell_type": "code",
   "execution_count": 104,
   "id": "0dbd1e9d",
   "metadata": {},
   "outputs": [],
   "source": [
    "lr=0.002\n",
    "momentum=0.8\n",
    "optimizer= keras.optimizers.SGD(learning_rate=lr, momentum=momentum)\n",
    "\n",
    "model.compile(optimizer= optimizer,\n",
    "              loss=tf.keras.losses.MeanSquaredError(),\n",
    "             metrics= [tf.keras.metrics.BinaryAccuracy()], \n",
    "             )"
   ]
  },
  {
   "cell_type": "code",
   "execution_count": 105,
   "id": "a191c238",
   "metadata": {
    "scrolled": true
   },
   "outputs": [
    {
     "name": "stdout",
     "output_type": "stream",
     "text": [
      "Model: \"sequential_5\"\n",
      "_________________________________________________________________\n",
      "Layer (type)                 Output Shape              Param #   \n",
      "=================================================================\n",
      "conv2d_5 (Conv2D)            (None, 148, 148, 32)      896       \n",
      "_________________________________________________________________\n",
      "max_pooling2d_5 (MaxPooling2 (None, 74, 74, 32)        0         \n",
      "_________________________________________________________________\n",
      "flatten_5 (Flatten)          (None, 175232)            0         \n",
      "_________________________________________________________________\n",
      "dense_10 (Dense)             (None, 64)                11214912  \n",
      "_________________________________________________________________\n",
      "dense_11 (Dense)             (None, 1)                 65        \n",
      "=================================================================\n",
      "Total params: 11,215,873\n",
      "Trainable params: 11,215,873\n",
      "Non-trainable params: 0\n",
      "_________________________________________________________________\n"
     ]
    }
   ],
   "source": [
    "model.summary()"
   ]
  },
  {
   "cell_type": "code",
   "execution_count": 106,
   "id": "ce1058c0",
   "metadata": {
    "scrolled": true
   },
   "outputs": [
    {
     "name": "stdout",
     "output_type": "stream",
     "text": [
      "Epoch 1/10\n",
      "100/100 [==============================] - 37s 369ms/step - loss: 0.2495 - binary_accuracy: 0.5360 - val_loss: 0.2482 - val_binary_accuracy: 0.5430\n",
      "Epoch 2/10\n",
      "100/100 [==============================] - 34s 341ms/step - loss: 0.2426 - binary_accuracy: 0.5600 - val_loss: 0.2411 - val_binary_accuracy: 0.5710\n",
      "Epoch 3/10\n",
      "100/100 [==============================] - 33s 332ms/step - loss: 0.2420 - binary_accuracy: 0.5750 - val_loss: 0.2446 - val_binary_accuracy: 0.5650\n",
      "Epoch 4/10\n",
      "100/100 [==============================] - 33s 334ms/step - loss: 0.2430 - binary_accuracy: 0.5710 - val_loss: 0.2359 - val_binary_accuracy: 0.6050\n",
      "Epoch 5/10\n",
      "100/100 [==============================] - 35s 348ms/step - loss: 0.2390 - binary_accuracy: 0.5855 - val_loss: 0.2290 - val_binary_accuracy: 0.6340\n",
      "Epoch 6/10\n",
      "100/100 [==============================] - 33s 331ms/step - loss: 0.2343 - binary_accuracy: 0.6020 - val_loss: 0.2394 - val_binary_accuracy: 0.5680\n",
      "Epoch 7/10\n",
      "100/100 [==============================] - 33s 330ms/step - loss: 0.2336 - binary_accuracy: 0.5950 - val_loss: 0.2320 - val_binary_accuracy: 0.5960\n",
      "Epoch 8/10\n",
      "100/100 [==============================] - 34s 337ms/step - loss: 0.2307 - binary_accuracy: 0.6120 - val_loss: 0.2302 - val_binary_accuracy: 0.6220\n",
      "Epoch 9/10\n",
      "100/100 [==============================] - 46s 458ms/step - loss: 0.2294 - binary_accuracy: 0.6175 - val_loss: 0.2233 - val_binary_accuracy: 0.6360\n",
      "Epoch 10/10\n",
      "100/100 [==============================] - 41s 407ms/step - loss: 0.2261 - binary_accuracy: 0.6270 - val_loss: 0.2354 - val_binary_accuracy: 0.5910\n"
     ]
    }
   ],
   "source": [
    "history=model.fit(\n",
    "    train_ds,\n",
    "    steps_per_epoch=100,\n",
    "    epochs=10,\n",
    "     validation_data=val_ds,\n",
    "    validation_steps=50\n",
    ")"
   ]
  },
  {
   "cell_type": "code",
   "execution_count": 126,
   "id": "1ad0d216",
   "metadata": {},
   "outputs": [
    {
     "name": "stdout",
     "output_type": "stream",
     "text": [
      "Median of training accuracy: 0.65\n"
     ]
    }
   ],
   "source": [
    "#Q3\n",
    "\n",
    "training_accuracy = np.array(history.history['binary_accuracy'])\n",
    "\n",
    "print(f'Median of training accuracy: {np.median(training_accuracy).round(2)}')"
   ]
  },
  {
   "cell_type": "code",
   "execution_count": 125,
   "id": "3062e07b",
   "metadata": {},
   "outputs": [
    {
     "name": "stdout",
     "output_type": "stream",
     "text": [
      "Standard deviation of training loss: 0.0035\n"
     ]
    }
   ],
   "source": [
    "#Q4\n",
    "\n",
    "training_loss = np.array(history.history['loss'])\n",
    "\n",
    "print(f'Standard deviation of training loss: {np.std(training_loss).round(4)}')"
   ]
  },
  {
   "cell_type": "code",
   "execution_count": 109,
   "id": "a64b714b",
   "metadata": {},
   "outputs": [],
   "source": [
    "#Data Augmentation\n",
    "train_datagen = ImageDataGenerator(rescale=1./255,\n",
    "                                   rotation_range=40,\n",
    "                                    width_shift_range=0.2,\n",
    "                                    height_shift_range=0.2,\n",
    "                                    shear_range=0.2,\n",
    "                                    zoom_range=0.2,\n",
    "                                    horizontal_flip=True,\n",
    "                                    fill_mode='nearest')\n",
    "\n",
    "val_datagen = ImageDataGenerator(rescale=1./255) \n",
    "\n"
   ]
  },
  {
   "cell_type": "code",
   "execution_count": 110,
   "id": "70c43ce5",
   "metadata": {},
   "outputs": [
    {
     "name": "stdout",
     "output_type": "stream",
     "text": [
      "Epoch 1/10\n",
      "100/100 [==============================] - 37s 375ms/step - loss: 0.2237 - binary_accuracy: 0.6375 - val_loss: 0.2194 - val_binary_accuracy: 0.6530\n",
      "Epoch 2/10\n",
      "100/100 [==============================] - 37s 373ms/step - loss: 0.2256 - binary_accuracy: 0.6210 - val_loss: 0.2390 - val_binary_accuracy: 0.5890\n",
      "Epoch 3/10\n",
      "100/100 [==============================] - 43s 429ms/step - loss: 0.2205 - binary_accuracy: 0.6350 - val_loss: 0.2323 - val_binary_accuracy: 0.6010\n",
      "Epoch 4/10\n",
      "100/100 [==============================] - 38s 377ms/step - loss: 0.2172 - binary_accuracy: 0.6475 - val_loss: 0.2523 - val_binary_accuracy: 0.5530\n",
      "Epoch 5/10\n",
      "100/100 [==============================] - 40s 399ms/step - loss: 0.2158 - binary_accuracy: 0.6530 - val_loss: 0.2236 - val_binary_accuracy: 0.6320\n",
      "Epoch 6/10\n",
      "100/100 [==============================] - 38s 375ms/step - loss: 0.2165 - binary_accuracy: 0.6515 - val_loss: 0.2213 - val_binary_accuracy: 0.6220\n",
      "Epoch 7/10\n",
      "100/100 [==============================] - 38s 378ms/step - loss: 0.2206 - binary_accuracy: 0.6405 - val_loss: 0.2238 - val_binary_accuracy: 0.6170\n",
      "Epoch 8/10\n",
      "100/100 [==============================] - 38s 383ms/step - loss: 0.2161 - binary_accuracy: 0.6465 - val_loss: 0.2159 - val_binary_accuracy: 0.6380\n",
      "Epoch 9/10\n",
      "100/100 [==============================] - 44s 439ms/step - loss: 0.2183 - binary_accuracy: 0.6530 - val_loss: 0.2295 - val_binary_accuracy: 0.6100\n",
      "Epoch 10/10\n",
      "100/100 [==============================] - 40s 396ms/step - loss: 0.2142 - binary_accuracy: 0.6590 - val_loss: 0.2133 - val_binary_accuracy: 0.6610\n"
     ]
    }
   ],
   "source": [
    "history=model.fit(\n",
    "    train_ds,\n",
    "    steps_per_epoch=100,\n",
    "    epochs=10,\n",
    "     validation_data=val_ds,\n",
    "    validation_steps=50\n",
    ")"
   ]
  },
  {
   "cell_type": "code",
   "execution_count": 127,
   "id": "c987dd6a",
   "metadata": {
    "scrolled": true
   },
   "outputs": [
    {
     "name": "stdout",
     "output_type": "stream",
     "text": [
      "Mean for validation loss: 0.23\n"
     ]
    }
   ],
   "source": [
    "#Q5\n",
    "\n",
    "val_loss = np.array(history.history['val_loss'])\n",
    "\n",
    "print(f'Mean for validation loss: {np.mean(val_loss).round(2)}')"
   ]
  },
  {
   "cell_type": "code",
   "execution_count": 112,
   "id": "199787a8",
   "metadata": {},
   "outputs": [
    {
     "data": {
      "text/plain": [
       "[0.652999997138977,\n",
       " 0.5889999866485596,\n",
       " 0.6010000109672546,\n",
       " 0.5529999732971191,\n",
       " 0.6320000290870667,\n",
       " 0.621999979019165,\n",
       " 0.6169999837875366,\n",
       " 0.6380000114440918,\n",
       " 0.6100000143051147,\n",
       " 0.6610000133514404]"
      ]
     },
     "execution_count": 112,
     "metadata": {},
     "output_type": "execute_result"
    }
   ],
   "source": [
    "val_accuracies = (history.history['val_binary_accuracy'])\n",
    "val_accuracies"
   ]
  },
  {
   "cell_type": "code",
   "execution_count": 117,
   "id": "226c9abe",
   "metadata": {},
   "outputs": [
    {
     "data": {
      "text/plain": [
       "[0.621999979019165,\n",
       " 0.6169999837875366,\n",
       " 0.6380000114440918,\n",
       " 0.6100000143051147,\n",
       " 0.6610000133514404]"
      ]
     },
     "execution_count": 117,
     "metadata": {},
     "output_type": "execute_result"
    }
   ],
   "source": [
    "val_list = val_accuracies[5:10]\n",
    "val_list"
   ]
  },
  {
   "cell_type": "code",
   "execution_count": 129,
   "id": "52c80a40",
   "metadata": {},
   "outputs": [
    {
     "name": "stdout",
     "output_type": "stream",
     "text": [
      "Average of validation accuracy for the last 5 epochs: 0.63\n"
     ]
    }
   ],
   "source": [
    "#Q6\n",
    "\n",
    "val_acc = np.array([val_list])\n",
    "\n",
    "print(f'Average of validation accuracy for the last 5 epochs: {np.average(val_acc).round(2)}')"
   ]
  }
 ],
 "metadata": {
  "kernelspec": {
   "display_name": "Python 3 (ipykernel)",
   "language": "python",
   "name": "python3"
  },
  "language_info": {
   "codemirror_mode": {
    "name": "ipython",
    "version": 3
   },
   "file_extension": ".py",
   "mimetype": "text/x-python",
   "name": "python",
   "nbconvert_exporter": "python",
   "pygments_lexer": "ipython3",
   "version": "3.8.12"
  }
 },
 "nbformat": 4,
 "nbformat_minor": 5
}
